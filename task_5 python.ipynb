{
 "cells": [
  {
   "cell_type": "markdown",
   "id": "29b351f5-4c1a-419a-8bd6-e59642f61128",
   "metadata": {},
   "source": [
    "# create 10 level of pyramid"
   ]
  },
  {
   "cell_type": "code",
   "execution_count": 27,
   "id": "9aa96fdc-a270-4a04-bd39-6f07bf36dbfb",
   "metadata": {},
   "outputs": [
    {
     "name": "stdin",
     "output_type": "stream",
     "text": [
      "enter the number of rows 10\n"
     ]
    },
    {
     "name": "stdout",
     "output_type": "stream",
     "text": [
      "\n",
      "* \n",
      "* * \n",
      "* * * \n",
      "* * * * \n",
      "* * * * * \n",
      "* * * * * * \n",
      "* * * * * * * \n",
      "* * * * * * * * \n",
      "* * * * * * * * * \n",
      "* * * * * * * * * * \n"
     ]
    }
   ],
   "source": [
    "l1 = int(input('enter the number of rows'))\n",
    "for  i in range(0, l1 + 1):\n",
    "     for  k in range(1, i + 1):\n",
    "          print('*', end=' ')\n",
    "     print()"
   ]
  }
 ],
 "metadata": {
  "kernelspec": {
   "display_name": "Python 3 (ipykernel)",
   "language": "python",
   "name": "python3"
  },
  "language_info": {
   "codemirror_mode": {
    "name": "ipython",
    "version": 3
   },
   "file_extension": ".py",
   "mimetype": "text/x-python",
   "name": "python",
   "nbconvert_exporter": "python",
   "pygments_lexer": "ipython3",
   "version": "3.12.4"
  }
 },
 "nbformat": 4,
 "nbformat_minor": 5
}
